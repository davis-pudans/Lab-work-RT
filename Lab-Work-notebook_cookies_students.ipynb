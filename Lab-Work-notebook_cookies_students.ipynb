{
 "cells": [
  {
   "cell_type": "code",
   "execution_count": 195,
   "metadata": {},
   "outputs": [],
   "source": [
    "import pandas as pd\n",
    "import matplotlib.pyplot as plt\n",
    "import seaborn as sns\n",
    "%matplotlib inline\n",
    "import numpy as np"
   ]
  },
  {
   "cell_type": "markdown",
   "metadata": {},
   "source": [
    "### Read the data "
   ]
  },
  {
   "cell_type": "code",
   "execution_count": 196,
   "metadata": {},
   "outputs": [],
   "source": [
    "cookies = pd.read_csv('cookies.csv')"
   ]
  },
  {
   "cell_type": "code",
   "execution_count": 197,
   "metadata": {},
   "outputs": [
    {
     "data": {
      "text/html": [
       "<div>\n",
       "<style scoped>\n",
       "    .dataframe tbody tr th:only-of-type {\n",
       "        vertical-align: middle;\n",
       "    }\n",
       "\n",
       "    .dataframe tbody tr th {\n",
       "        vertical-align: top;\n",
       "    }\n",
       "\n",
       "    .dataframe thead th {\n",
       "        text-align: right;\n",
       "    }\n",
       "</style>\n",
       "<table border=\"1\" class=\"dataframe\">\n",
       "  <thead>\n",
       "    <tr style=\"text-align: right;\">\n",
       "      <th></th>\n",
       "      <th>sugar to flour ratio</th>\n",
       "      <th>sugar index</th>\n",
       "      <th>bake temp</th>\n",
       "      <th>chill time</th>\n",
       "      <th>calories</th>\n",
       "      <th>density</th>\n",
       "      <th>pH</th>\n",
       "      <th>grams baking soda</th>\n",
       "      <th>bake time</th>\n",
       "      <th>quality</th>\n",
       "      <th>butter type</th>\n",
       "      <th>weight</th>\n",
       "      <th>diameter</th>\n",
       "      <th>mixins</th>\n",
       "      <th>crunch factor</th>\n",
       "      <th>aesthetic appeal</th>\n",
       "    </tr>\n",
       "  </thead>\n",
       "  <tbody>\n",
       "    <tr>\n",
       "      <th>0</th>\n",
       "      <td>0.25</td>\n",
       "      <td>9.5</td>\n",
       "      <td>300</td>\n",
       "      <td>15.0</td>\n",
       "      <td>136.0</td>\n",
       "      <td>0.99367</td>\n",
       "      <td>8.10</td>\n",
       "      <td>0.44</td>\n",
       "      <td>12.1</td>\n",
       "      <td>8</td>\n",
       "      <td>melted</td>\n",
       "      <td>15.2</td>\n",
       "      <td>7</td>\n",
       "      <td>raisins</td>\n",
       "      <td>1.30</td>\n",
       "      <td>3</td>\n",
       "    </tr>\n",
       "    <tr>\n",
       "      <th>1</th>\n",
       "      <td>0.23</td>\n",
       "      <td>3.3</td>\n",
       "      <td>520</td>\n",
       "      <td>34.0</td>\n",
       "      <td>113.0</td>\n",
       "      <td>0.99429</td>\n",
       "      <td>8.16</td>\n",
       "      <td>0.48</td>\n",
       "      <td>8.4</td>\n",
       "      <td>7</td>\n",
       "      <td>melted</td>\n",
       "      <td>12.4</td>\n",
       "      <td>7</td>\n",
       "      <td>raisins</td>\n",
       "      <td>1.71</td>\n",
       "      <td>3</td>\n",
       "    </tr>\n",
       "    <tr>\n",
       "      <th>2</th>\n",
       "      <td>0.18</td>\n",
       "      <td>1.9</td>\n",
       "      <td>360</td>\n",
       "      <td>33.0</td>\n",
       "      <td>106.0</td>\n",
       "      <td>0.98746</td>\n",
       "      <td>8.21</td>\n",
       "      <td>0.83</td>\n",
       "      <td>14.0</td>\n",
       "      <td>9</td>\n",
       "      <td>melted</td>\n",
       "      <td>9.4</td>\n",
       "      <td>7</td>\n",
       "      <td>nuts, chocolate</td>\n",
       "      <td>1.78</td>\n",
       "      <td>3</td>\n",
       "    </tr>\n",
       "    <tr>\n",
       "      <th>3</th>\n",
       "      <td>0.18</td>\n",
       "      <td>10.5</td>\n",
       "      <td>490</td>\n",
       "      <td>41.0</td>\n",
       "      <td>124.0</td>\n",
       "      <td>0.99630</td>\n",
       "      <td>8.14</td>\n",
       "      <td>0.35</td>\n",
       "      <td>10.5</td>\n",
       "      <td>7</td>\n",
       "      <td>melted</td>\n",
       "      <td>12.2</td>\n",
       "      <td>7</td>\n",
       "      <td>chocolate</td>\n",
       "      <td>1.59</td>\n",
       "      <td>3</td>\n",
       "    </tr>\n",
       "    <tr>\n",
       "      <th>4</th>\n",
       "      <td>0.24</td>\n",
       "      <td>2.4</td>\n",
       "      <td>770</td>\n",
       "      <td>6.0</td>\n",
       "      <td>33.0</td>\n",
       "      <td>0.99740</td>\n",
       "      <td>8.09</td>\n",
       "      <td>0.57</td>\n",
       "      <td>9.4</td>\n",
       "      <td>5</td>\n",
       "      <td>cubed</td>\n",
       "      <td>19.8</td>\n",
       "      <td>7</td>\n",
       "      <td>nuts, oats, chocolate</td>\n",
       "      <td>1.30</td>\n",
       "      <td>3</td>\n",
       "    </tr>\n",
       "  </tbody>\n",
       "</table>\n",
       "</div>"
      ],
      "text/plain": [
       "   sugar to flour ratio  sugar index  bake temp  chill time  calories  \\\n",
       "0                  0.25          9.5        300        15.0     136.0   \n",
       "1                  0.23          3.3        520        34.0     113.0   \n",
       "2                  0.18          1.9        360        33.0     106.0   \n",
       "3                  0.18         10.5        490        41.0     124.0   \n",
       "4                  0.24          2.4        770         6.0      33.0   \n",
       "\n",
       "   density    pH  grams baking soda  bake time  quality butter type  weight  \\\n",
       "0  0.99367  8.10               0.44       12.1        8      melted    15.2   \n",
       "1  0.99429  8.16               0.48        8.4        7      melted    12.4   \n",
       "2  0.98746  8.21               0.83       14.0        9      melted     9.4   \n",
       "3  0.99630  8.14               0.35       10.5        7      melted    12.2   \n",
       "4  0.99740  8.09               0.57        9.4        5       cubed    19.8   \n",
       "\n",
       "   diameter                 mixins  crunch factor  aesthetic appeal  \n",
       "0         7                raisins           1.30                 3  \n",
       "1         7                raisins           1.71                 3  \n",
       "2         7        nuts, chocolate           1.78                 3  \n",
       "3         7              chocolate           1.59                 3  \n",
       "4         7  nuts, oats, chocolate           1.30                 3  "
      ]
     },
     "execution_count": 197,
     "metadata": {},
     "output_type": "execute_result"
    }
   ],
   "source": [
    "cookies.head()"
   ]
  },
  {
   "cell_type": "markdown",
   "metadata": {},
   "source": [
    "### Exploratory Data Analysis and Descriptive Statistics"
   ]
  },
  {
   "cell_type": "code",
   "execution_count": 198,
   "metadata": {},
   "outputs": [
    {
     "name": "stdout",
     "output_type": "stream",
     "text": [
      "<class 'pandas.core.frame.DataFrame'>\n",
      "RangeIndex: 5198 entries, 0 to 5197\n",
      "Data columns (total 16 columns):\n",
      " #   Column                Non-Null Count  Dtype  \n",
      "---  ------                --------------  -----  \n",
      " 0   sugar to flour ratio  5198 non-null   float64\n",
      " 1   sugar index           5193 non-null   float64\n",
      " 2   bake temp             5198 non-null   int64  \n",
      " 3   chill time            5198 non-null   float64\n",
      " 4   calories              5198 non-null   float64\n",
      " 5   density               5198 non-null   float64\n",
      " 6   pH                    5198 non-null   float64\n",
      " 7   grams baking soda     5198 non-null   float64\n",
      " 8   bake time             5188 non-null   float64\n",
      " 9   quality               5198 non-null   int64  \n",
      " 10  butter type           5198 non-null   object \n",
      " 11  weight                5198 non-null   float64\n",
      " 12  diameter              5198 non-null   int64  \n",
      " 13  mixins                5196 non-null   object \n",
      " 14  crunch factor         5198 non-null   float64\n",
      " 15  aesthetic appeal      5198 non-null   int64  \n",
      "dtypes: float64(10), int64(4), object(2)\n",
      "memory usage: 649.9+ KB\n"
     ]
    }
   ],
   "source": [
    "cookies.info()"
   ]
  },
  {
   "cell_type": "markdown",
   "metadata": {},
   "source": [
    "## Bake time "
   ]
  },
  {
   "cell_type": "code",
   "execution_count": 199,
   "metadata": {},
   "outputs": [
    {
     "data": {
      "text/plain": [
       "count    5188.000000\n",
       "mean       10.494758\n",
       "std         1.194584\n",
       "min         8.000000\n",
       "25%         9.500000\n",
       "50%        10.300000\n",
       "75%        11.300000\n",
       "max        14.900000\n",
       "Name: bake time, dtype: float64"
      ]
     },
     "execution_count": 199,
     "metadata": {},
     "output_type": "execute_result"
    }
   ],
   "source": [
    "cookies['bake time'].describe()"
   ]
  },
  {
   "cell_type": "code",
   "execution_count": 200,
   "metadata": {},
   "outputs": [
    {
     "data": {
      "text/plain": [
       "<seaborn.axisgrid.PairGrid at 0x7f8d000de9a0>"
      ]
     },
     "execution_count": 200,
     "metadata": {},
     "output_type": "execute_result"
    },
    {
     "data": {
      "image/png": "[encoded data removed]",
      "text/plain": [
       "<Figure size 540x540 with 12 Axes>"
      ]
     },
     "metadata": {
      "needs_background": "light"
     },
     "output_type": "display_data"
    }
   ],
   "source": [
    "sns.pairplot(cookies[['quality', 'bake time', 'bake temp']])"
   ]
  },
  {
   "cell_type": "code",
   "execution_count": 201,
   "metadata": {},
   "outputs": [
    {
     "data": {
      "image/png": "[encoded data removed]",
      "text/plain": [
       "<Figure size 1152x432 with 2 Axes>"
      ]
     },
     "metadata": {
      "needs_background": "light"
     },
     "output_type": "display_data"
    }
   ],
   "source": [
    "plt.figure(figsize=(16, 6))\n",
    "mask = np.triu(np.ones_like(cookies.corr(), dtype=np.bool))\n",
    "heatmap = sns.heatmap(cookies.corr(), mask=mask, vmin=-1, vmax=1, annot=True, cmap='BrBG')"
   ]
  },
  {
   "cell_type": "code",
   "execution_count": 202,
   "metadata": {},
   "outputs": [
    {
     "name": "stdout",
     "output_type": "stream",
     "text": [
      "sugar to flour ratio --> 0.1821346059774524\n",
      "sugar index --> 0.22065352244335407\n",
      "bake temp --> -0.4705037090124245\n",
      "chill time --> 0.36465303504313296\n",
      "calories --> 0.4398363987447589\n",
      "density --> -0.021995308762374936\n",
      "pH --> -0.11472101703648846\n",
      "grams baking soda --> -0.3053403830897962\n",
      "bake time --> 0.3153070710526111\n",
      "quality --> 1.0\n",
      "weight --> -0.3282994017266426\n",
      "diameter --> nan\n",
      "crunch factor --> 0.007262050440050124\n",
      "aesthetic appeal --> 0.00015142266125481668\n"
     ]
    }
   ],
   "source": [
    "num_cols = cookies.select_dtypes(include=[\"int64\", \"float64\"]).columns\n",
    "\n",
    "for column in num_cols:\n",
    "    print(column, '-->', cookies['quality'].corr(cookies[column]))"
   ]
  },
  {
   "cell_type": "markdown",
   "metadata": {},
   "source": [
    "## butter"
   ]
  },
  {
   "cell_type": "code",
   "execution_count": 203,
   "metadata": {},
   "outputs": [
    {
     "data": {
      "text/plain": [
       "melted    3920\n",
       "cubed     1278\n",
       "Name: butter type, dtype: int64"
      ]
     },
     "execution_count": 203,
     "metadata": {},
     "output_type": "execute_result"
    }
   ],
   "source": [
    "cookies['butter type'].value_counts()"
   ]
  },
  {
   "cell_type": "markdown",
   "metadata": {},
   "source": [
    "## aesthetic appeal"
   ]
  },
  {
   "cell_type": "code",
   "execution_count": 204,
   "metadata": {},
   "outputs": [
    {
     "data": {
      "text/plain": [
       "3    5195\n",
       "4       3\n",
       "Name: aesthetic appeal, dtype: int64"
      ]
     },
     "execution_count": 204,
     "metadata": {},
     "output_type": "execute_result"
    }
   ],
   "source": [
    "cookies['aesthetic appeal'].value_counts()\n"
   ]
  },
  {
   "cell_type": "markdown",
   "metadata": {},
   "source": [
    "Thoughts on aesthetics : \n",
    "    not many values - drop column "
   ]
  },
  {
   "cell_type": "markdown",
   "metadata": {},
   "source": [
    "## weight"
   ]
  },
  {
   "cell_type": "code",
   "execution_count": 205,
   "metadata": {},
   "outputs": [
    {
     "data": {
      "text/plain": [
       "count    5198.000000\n",
       "mean       14.381935\n",
       "std         3.023740\n",
       "min       -99.000000\n",
       "25%        12.800000\n",
       "50%        14.000000\n",
       "75%        15.400000\n",
       "max        31.800000\n",
       "Name: weight, dtype: float64"
      ]
     },
     "execution_count": 205,
     "metadata": {},
     "output_type": "execute_result"
    }
   ],
   "source": [
    "cookies['weight'].describe()"
   ]
  },
  {
   "cell_type": "code",
   "execution_count": 206,
   "metadata": {},
   "outputs": [
    {
     "data": {
      "text/plain": [
       "array([ 15.2,  12.4,   9.4,  12.2,  19.8,  13.2,  14.2,  13.8,  12.6,\n",
       "        12.8,  13. ,  14. ,  12. ,  14.6,  15.6,  13.4,  16.8,  14.8,\n",
       "        13.6,  16. ,  11. ,  18.6,  10.6,  18.2,  15.8,  17.2,  14.3,\n",
       "        10.4,  11.8,  11.6,  15.4,  21.6,  20.2,  14.4,  12.3,  23.8,\n",
       "        11.2,  11.4,  15. ,  19.6,  17.4,  16.4,  19.2,  10.8,  18. ,\n",
       "        26. ,  16.6,  16.2,  19. ,  10. ,  21.4,  20.4,  17. ,  31.2,\n",
       "        17.8,  22.6,   9.8,  23. ,  18.8,  26.6,  20.8,  26.4,  10.2,\n",
       "        22.2,  23.4,  18.4,  17.6,  28.4,  24.6,  20.6,  25. ,  24.2,\n",
       "        22.8,  24. ,  23.2,  24.4,  26.8,  22.4,  19.4,  23.6,  27.4,\n",
       "        28. ,  22. ,  21.8,  25.2,  25.8,  20. ,  21.2,  21. , -99. ,\n",
       "        25.6,  31. ,   9. ,  24.8,  25.4,   9.6,   8.8,  30. ,  12.9,\n",
       "         9.2,  31.8,   7.6,   7.8,   8.4,  28.6])"
      ]
     },
     "execution_count": 206,
     "metadata": {},
     "output_type": "execute_result"
    }
   ],
   "source": [
    "cookies['weight'].unique()"
   ]
  },
  {
   "cell_type": "code",
   "execution_count": 276,
   "metadata": {},
   "outputs": [],
   "source": [
    "#remove rows with wight below 0"
   ]
  },
  {
   "cell_type": "code",
   "execution_count": 207,
   "metadata": {},
   "outputs": [
    {
     "data": {
      "text/html": [
       "<div>\n",
       "<style scoped>\n",
       "    .dataframe tbody tr th:only-of-type {\n",
       "        vertical-align: middle;\n",
       "    }\n",
       "\n",
       "    .dataframe tbody tr th {\n",
       "        vertical-align: top;\n",
       "    }\n",
       "\n",
       "    .dataframe thead th {\n",
       "        text-align: right;\n",
       "    }\n",
       "</style>\n",
       "<table border=\"1\" class=\"dataframe\">\n",
       "  <thead>\n",
       "    <tr style=\"text-align: right;\">\n",
       "      <th></th>\n",
       "      <th>sugar to flour ratio</th>\n",
       "      <th>sugar index</th>\n",
       "      <th>bake temp</th>\n",
       "      <th>chill time</th>\n",
       "      <th>calories</th>\n",
       "      <th>density</th>\n",
       "      <th>pH</th>\n",
       "      <th>grams baking soda</th>\n",
       "      <th>bake time</th>\n",
       "      <th>quality</th>\n",
       "      <th>butter type</th>\n",
       "      <th>weight</th>\n",
       "      <th>diameter</th>\n",
       "      <th>mixins</th>\n",
       "      <th>crunch factor</th>\n",
       "      <th>aesthetic appeal</th>\n",
       "    </tr>\n",
       "  </thead>\n",
       "  <tbody>\n",
       "    <tr>\n",
       "      <th>0</th>\n",
       "      <td>0.25</td>\n",
       "      <td>9.5</td>\n",
       "      <td>300</td>\n",
       "      <td>15.0</td>\n",
       "      <td>136.0</td>\n",
       "      <td>0.99367</td>\n",
       "      <td>8.10</td>\n",
       "      <td>0.44</td>\n",
       "      <td>12.1</td>\n",
       "      <td>8</td>\n",
       "      <td>melted</td>\n",
       "      <td>15.2</td>\n",
       "      <td>7</td>\n",
       "      <td>raisins</td>\n",
       "      <td>1.30</td>\n",
       "      <td>3</td>\n",
       "    </tr>\n",
       "    <tr>\n",
       "      <th>1</th>\n",
       "      <td>0.23</td>\n",
       "      <td>3.3</td>\n",
       "      <td>520</td>\n",
       "      <td>34.0</td>\n",
       "      <td>113.0</td>\n",
       "      <td>0.99429</td>\n",
       "      <td>8.16</td>\n",
       "      <td>0.48</td>\n",
       "      <td>8.4</td>\n",
       "      <td>7</td>\n",
       "      <td>melted</td>\n",
       "      <td>12.4</td>\n",
       "      <td>7</td>\n",
       "      <td>raisins</td>\n",
       "      <td>1.71</td>\n",
       "      <td>3</td>\n",
       "    </tr>\n",
       "    <tr>\n",
       "      <th>2</th>\n",
       "      <td>0.18</td>\n",
       "      <td>1.9</td>\n",
       "      <td>360</td>\n",
       "      <td>33.0</td>\n",
       "      <td>106.0</td>\n",
       "      <td>0.98746</td>\n",
       "      <td>8.21</td>\n",
       "      <td>0.83</td>\n",
       "      <td>14.0</td>\n",
       "      <td>9</td>\n",
       "      <td>melted</td>\n",
       "      <td>9.4</td>\n",
       "      <td>7</td>\n",
       "      <td>nuts, chocolate</td>\n",
       "      <td>1.78</td>\n",
       "      <td>3</td>\n",
       "    </tr>\n",
       "    <tr>\n",
       "      <th>3</th>\n",
       "      <td>0.18</td>\n",
       "      <td>10.5</td>\n",
       "      <td>490</td>\n",
       "      <td>41.0</td>\n",
       "      <td>124.0</td>\n",
       "      <td>0.99630</td>\n",
       "      <td>8.14</td>\n",
       "      <td>0.35</td>\n",
       "      <td>10.5</td>\n",
       "      <td>7</td>\n",
       "      <td>melted</td>\n",
       "      <td>12.2</td>\n",
       "      <td>7</td>\n",
       "      <td>chocolate</td>\n",
       "      <td>1.59</td>\n",
       "      <td>3</td>\n",
       "    </tr>\n",
       "    <tr>\n",
       "      <th>4</th>\n",
       "      <td>0.24</td>\n",
       "      <td>2.4</td>\n",
       "      <td>770</td>\n",
       "      <td>6.0</td>\n",
       "      <td>33.0</td>\n",
       "      <td>0.99740</td>\n",
       "      <td>8.09</td>\n",
       "      <td>0.57</td>\n",
       "      <td>9.4</td>\n",
       "      <td>5</td>\n",
       "      <td>cubed</td>\n",
       "      <td>19.8</td>\n",
       "      <td>7</td>\n",
       "      <td>nuts, oats, chocolate</td>\n",
       "      <td>1.30</td>\n",
       "      <td>3</td>\n",
       "    </tr>\n",
       "    <tr>\n",
       "      <th>...</th>\n",
       "      <td>...</td>\n",
       "      <td>...</td>\n",
       "      <td>...</td>\n",
       "      <td>...</td>\n",
       "      <td>...</td>\n",
       "      <td>...</td>\n",
       "      <td>...</td>\n",
       "      <td>...</td>\n",
       "      <td>...</td>\n",
       "      <td>...</td>\n",
       "      <td>...</td>\n",
       "      <td>...</td>\n",
       "      <td>...</td>\n",
       "      <td>...</td>\n",
       "      <td>...</td>\n",
       "      <td>...</td>\n",
       "    </tr>\n",
       "    <tr>\n",
       "      <th>5193</th>\n",
       "      <td>0.66</td>\n",
       "      <td>2.0</td>\n",
       "      <td>390</td>\n",
       "      <td>15.0</td>\n",
       "      <td>88.0</td>\n",
       "      <td>0.99357</td>\n",
       "      <td>8.66</td>\n",
       "      <td>0.60</td>\n",
       "      <td>11.5</td>\n",
       "      <td>6</td>\n",
       "      <td>cubed</td>\n",
       "      <td>11.6</td>\n",
       "      <td>7</td>\n",
       "      <td>peanut butter</td>\n",
       "      <td>1.36</td>\n",
       "      <td>3</td>\n",
       "    </tr>\n",
       "    <tr>\n",
       "      <th>5194</th>\n",
       "      <td>0.16</td>\n",
       "      <td>1.5</td>\n",
       "      <td>490</td>\n",
       "      <td>10.0</td>\n",
       "      <td>97.0</td>\n",
       "      <td>0.99170</td>\n",
       "      <td>8.48</td>\n",
       "      <td>0.44</td>\n",
       "      <td>10.7</td>\n",
       "      <td>8</td>\n",
       "      <td>melted</td>\n",
       "      <td>10.0</td>\n",
       "      <td>7</td>\n",
       "      <td>raisins</td>\n",
       "      <td>1.80</td>\n",
       "      <td>3</td>\n",
       "    </tr>\n",
       "    <tr>\n",
       "      <th>5195</th>\n",
       "      <td>0.25</td>\n",
       "      <td>14.3</td>\n",
       "      <td>480</td>\n",
       "      <td>79.0</td>\n",
       "      <td>149.0</td>\n",
       "      <td>0.99750</td>\n",
       "      <td>8.12</td>\n",
       "      <td>0.37</td>\n",
       "      <td>9.7</td>\n",
       "      <td>7</td>\n",
       "      <td>melted</td>\n",
       "      <td>13.4</td>\n",
       "      <td>7</td>\n",
       "      <td>chocolate, oats</td>\n",
       "      <td>1.07</td>\n",
       "      <td>3</td>\n",
       "    </tr>\n",
       "    <tr>\n",
       "      <th>5196</th>\n",
       "      <td>0.33</td>\n",
       "      <td>1.4</td>\n",
       "      <td>560</td>\n",
       "      <td>35.0</td>\n",
       "      <td>136.0</td>\n",
       "      <td>0.99380</td>\n",
       "      <td>8.63</td>\n",
       "      <td>0.78</td>\n",
       "      <td>10.3</td>\n",
       "      <td>8</td>\n",
       "      <td>melted</td>\n",
       "      <td>13.8</td>\n",
       "      <td>7</td>\n",
       "      <td>chocolate</td>\n",
       "      <td>1.77</td>\n",
       "      <td>3</td>\n",
       "    </tr>\n",
       "    <tr>\n",
       "      <th>5197</th>\n",
       "      <td>0.44</td>\n",
       "      <td>1.8</td>\n",
       "      <td>810</td>\n",
       "      <td>28.0</td>\n",
       "      <td>68.0</td>\n",
       "      <td>0.99501</td>\n",
       "      <td>8.36</td>\n",
       "      <td>0.66</td>\n",
       "      <td>11.2</td>\n",
       "      <td>5</td>\n",
       "      <td>cubed</td>\n",
       "      <td>16.0</td>\n",
       "      <td>7</td>\n",
       "      <td>chocolate</td>\n",
       "      <td>1.61</td>\n",
       "      <td>3</td>\n",
       "    </tr>\n",
       "  </tbody>\n",
       "</table>\n",
       "<p>5197 rows × 16 columns</p>\n",
       "</div>"
      ],
      "text/plain": [
       "      sugar to flour ratio  sugar index  bake temp  chill time  calories  \\\n",
       "0                     0.25          9.5        300        15.0     136.0   \n",
       "1                     0.23          3.3        520        34.0     113.0   \n",
       "2                     0.18          1.9        360        33.0     106.0   \n",
       "3                     0.18         10.5        490        41.0     124.0   \n",
       "4                     0.24          2.4        770         6.0      33.0   \n",
       "...                    ...          ...        ...         ...       ...   \n",
       "5193                  0.66          2.0        390        15.0      88.0   \n",
       "5194                  0.16          1.5        490        10.0      97.0   \n",
       "5195                  0.25         14.3        480        79.0     149.0   \n",
       "5196                  0.33          1.4        560        35.0     136.0   \n",
       "5197                  0.44          1.8        810        28.0      68.0   \n",
       "\n",
       "      density    pH  grams baking soda  bake time  quality butter type  \\\n",
       "0     0.99367  8.10               0.44       12.1        8      melted   \n",
       "1     0.99429  8.16               0.48        8.4        7      melted   \n",
       "2     0.98746  8.21               0.83       14.0        9      melted   \n",
       "3     0.99630  8.14               0.35       10.5        7      melted   \n",
       "4     0.99740  8.09               0.57        9.4        5       cubed   \n",
       "...       ...   ...                ...        ...      ...         ...   \n",
       "5193  0.99357  8.66               0.60       11.5        6       cubed   \n",
       "5194  0.99170  8.48               0.44       10.7        8      melted   \n",
       "5195  0.99750  8.12               0.37        9.7        7      melted   \n",
       "5196  0.99380  8.63               0.78       10.3        8      melted   \n",
       "5197  0.99501  8.36               0.66       11.2        5       cubed   \n",
       "\n",
       "      weight  diameter                 mixins  crunch factor  aesthetic appeal  \n",
       "0       15.2         7                raisins           1.30                 3  \n",
       "1       12.4         7                raisins           1.71                 3  \n",
       "2        9.4         7        nuts, chocolate           1.78                 3  \n",
       "3       12.2         7              chocolate           1.59                 3  \n",
       "4       19.8         7  nuts, oats, chocolate           1.30                 3  \n",
       "...      ...       ...                    ...            ...               ...  \n",
       "5193    11.6         7          peanut butter           1.36                 3  \n",
       "5194    10.0         7                raisins           1.80                 3  \n",
       "5195    13.4         7        chocolate, oats           1.07                 3  \n",
       "5196    13.8         7              chocolate           1.77                 3  \n",
       "5197    16.0         7              chocolate           1.61                 3  \n",
       "\n",
       "[5197 rows x 16 columns]"
      ]
     },
     "execution_count": 207,
     "metadata": {},
     "output_type": "execute_result"
    }
   ],
   "source": [
    "cookies=cookies[cookies['weight']>0]\n",
    "cookies"
   ]
  },
  {
   "cell_type": "markdown",
   "metadata": {},
   "source": [
    "Thoughts on weight : \n",
    "\n",
    "    Remove -99 value"
   ]
  },
  {
   "cell_type": "markdown",
   "metadata": {},
   "source": [
    "## diameter"
   ]
  },
  {
   "cell_type": "code",
   "execution_count": 208,
   "metadata": {},
   "outputs": [
    {
     "data": {
      "text/plain": [
       "array([7])"
      ]
     },
     "execution_count": 208,
     "metadata": {},
     "output_type": "execute_result"
    }
   ],
   "source": [
    "cookies['diameter'].unique()"
   ]
  },
  {
   "cell_type": "markdown",
   "metadata": {},
   "source": [
    "Thoughts on diameter : \n",
    "\n",
    "    All equal to 7 - column can be dropped "
   ]
  },
  {
   "cell_type": "markdown",
   "metadata": {},
   "source": [
    "## bake time"
   ]
  },
  {
   "cell_type": "code",
   "execution_count": 209,
   "metadata": {},
   "outputs": [
    {
     "data": {
      "text/plain": [
       "count    5187.000000\n",
       "mean       10.494757\n",
       "std         1.194699\n",
       "min         8.000000\n",
       "25%         9.500000\n",
       "50%        10.300000\n",
       "75%        11.300000\n",
       "max        14.900000\n",
       "Name: bake time, dtype: float64"
      ]
     },
     "execution_count": 209,
     "metadata": {},
     "output_type": "execute_result"
    }
   ],
   "source": [
    "cookies['bake time'].describe()"
   ]
  },
  {
   "cell_type": "code",
   "execution_count": 210,
   "metadata": {},
   "outputs": [
    {
     "data": {
      "text/plain": [
       "13       7\n",
       "173      8\n",
       "484     10\n",
       "816      7\n",
       "1562     8\n",
       "1867     7\n",
       "1933     7\n",
       "2215     9\n",
       "2910     6\n",
       "3746    10\n",
       "Name: quality, dtype: int64"
      ]
     },
     "execution_count": 210,
     "metadata": {},
     "output_type": "execute_result"
    }
   ],
   "source": [
    "cookies[cookies['bake time'].isnull()]['quality']"
   ]
  },
  {
   "cell_type": "markdown",
   "metadata": {},
   "source": [
    "Thoughts on Bake time \n",
    "\n",
    "    judging by the spread of nulls across quality bands, any missing values could be replaced by mean or rows dropped "
   ]
  },
  {
   "cell_type": "markdown",
   "metadata": {},
   "source": [
    "## crunch factor"
   ]
  },
  {
   "cell_type": "code",
   "execution_count": 211,
   "metadata": {},
   "outputs": [
    {
     "data": {
      "text/plain": [
       "<AxesSubplot:ylabel='Frequency'>"
      ]
     },
     "execution_count": 211,
     "metadata": {},
     "output_type": "execute_result"
    },
    {
     "data": {
      "image/png": "[encoded data removed]",
      "text/plain": [
       "<Figure size 432x288 with 1 Axes>"
      ]
     },
     "metadata": {
      "needs_background": "light"
     },
     "output_type": "display_data"
    }
   ],
   "source": [
    "cookies['crunch factor'].plot.hist()"
   ]
  },
  {
   "cell_type": "markdown",
   "metadata": {},
   "source": [
    "## mixins"
   ]
  },
  {
   "cell_type": "code",
   "execution_count": 212,
   "metadata": {},
   "outputs": [
    {
     "name": "stdout",
     "output_type": "stream",
     "text": [
      "<class 'pandas.core.frame.DataFrame'>\n",
      "Int64Index: 5197 entries, 0 to 5197\n",
      "Data columns (total 16 columns):\n",
      " #   Column                Non-Null Count  Dtype  \n",
      "---  ------                --------------  -----  \n",
      " 0   sugar to flour ratio  5197 non-null   float64\n",
      " 1   sugar index           5192 non-null   float64\n",
      " 2   bake temp             5197 non-null   int64  \n",
      " 3   chill time            5197 non-null   float64\n",
      " 4   calories              5197 non-null   float64\n",
      " 5   density               5197 non-null   float64\n",
      " 6   pH                    5197 non-null   float64\n",
      " 7   grams baking soda     5197 non-null   float64\n",
      " 8   bake time             5187 non-null   float64\n",
      " 9   quality               5197 non-null   int64  \n",
      " 10  butter type           5197 non-null   object \n",
      " 11  weight                5197 non-null   float64\n",
      " 12  diameter              5197 non-null   int64  \n",
      " 13  mixins                5195 non-null   object \n",
      " 14  crunch factor         5197 non-null   float64\n",
      " 15  aesthetic appeal      5197 non-null   int64  \n",
      "dtypes: float64(10), int64(4), object(2)\n",
      "memory usage: 690.2+ KB\n"
     ]
    }
   ],
   "source": [
    "cookies.info()"
   ]
  },
  {
   "cell_type": "code",
   "execution_count": 213,
   "metadata": {},
   "outputs": [
    {
     "data": {
      "text/plain": [
       "0                     raisins\n",
       "1                     raisins\n",
       "2             nuts, chocolate\n",
       "3                   chocolate\n",
       "4       nuts, oats, chocolate\n",
       "                ...          \n",
       "5193            peanut butter\n",
       "5194                  raisins\n",
       "5195          chocolate, oats\n",
       "5196                chocolate\n",
       "5197                chocolate\n",
       "Name: mixins, Length: 5197, dtype: object"
      ]
     },
     "execution_count": 213,
     "metadata": {},
     "output_type": "execute_result"
    }
   ],
   "source": [
    "cookies['mixins']"
   ]
  },
  {
   "cell_type": "code",
   "execution_count": 214,
   "metadata": {},
   "outputs": [
    {
     "data": {
      "text/plain": [
       "array(['raisins', 'nuts, chocolate', 'chocolate', 'nuts, oats, chocolate',\n",
       "       'chocolate, oats', 'raisins, oats', 'nuts,raisins', 'nuts, oats',\n",
       "       'chocolate, peanut butter', 'chocolate, oats, peanut butter',\n",
       "       'peanut butter', nan, 'peanut butter, raisins', 'oats'],\n",
       "      dtype=object)"
      ]
     },
     "execution_count": 214,
     "metadata": {},
     "output_type": "execute_result"
    }
   ],
   "source": [
    "cookies['mixins'].unique()"
   ]
  },
  {
   "cell_type": "code",
   "execution_count": 215,
   "metadata": {},
   "outputs": [
    {
     "data": {
      "text/plain": [
       "13"
      ]
     },
     "execution_count": 215,
     "metadata": {},
     "output_type": "execute_result"
    }
   ],
   "source": [
    "cookies['mixins'].nunique()"
   ]
  },
  {
   "cell_type": "markdown",
   "metadata": {},
   "source": [
    "### Wrangling the data / making small changes "
   ]
  },
  {
   "cell_type": "code",
   "execution_count": 216,
   "metadata": {},
   "outputs": [],
   "source": [
    "cookies.drop(columns=[\"aesthetic appeal\", \"diameter\"], inplace=True)"
   ]
  },
  {
   "cell_type": "code",
   "execution_count": 217,
   "metadata": {},
   "outputs": [],
   "source": [
    "cookies=cookies.dropna(subset=['mixins'])"
   ]
  },
  {
   "cell_type": "code",
   "execution_count": 218,
   "metadata": {},
   "outputs": [],
   "source": [
    "cookies.reset_index(drop=True, inplace=True)"
   ]
  },
  {
   "cell_type": "code",
   "execution_count": 219,
   "metadata": {},
   "outputs": [
    {
     "name": "stderr",
     "output_type": "stream",
     "text": [
      "<ipython-input-219-34c1b52f070e>:1: SettingWithCopyWarning: \n",
      "A value is trying to be set on a copy of a slice from a DataFrame.\n",
      "Try using .loc[row_indexer,col_indexer] = value instead\n",
      "\n",
      "See the caveats in the documentation: https://pandas.pydata.org/pandas-docs/stable/user_guide/indexing.html#returning-a-view-versus-a-copy\n",
      "  cookies['chocolate'] = 0\n",
      "<ipython-input-219-34c1b52f070e>:2: SettingWithCopyWarning: \n",
      "A value is trying to be set on a copy of a slice from a DataFrame.\n",
      "Try using .loc[row_indexer,col_indexer] = value instead\n",
      "\n",
      "See the caveats in the documentation: https://pandas.pydata.org/pandas-docs/stable/user_guide/indexing.html#returning-a-view-versus-a-copy\n",
      "  cookies['raisins'] = 0\n",
      "<ipython-input-219-34c1b52f070e>:3: SettingWithCopyWarning: \n",
      "A value is trying to be set on a copy of a slice from a DataFrame.\n",
      "Try using .loc[row_indexer,col_indexer] = value instead\n",
      "\n",
      "See the caveats in the documentation: https://pandas.pydata.org/pandas-docs/stable/user_guide/indexing.html#returning-a-view-versus-a-copy\n",
      "  cookies['oats'] = 0\n",
      "<ipython-input-219-34c1b52f070e>:4: SettingWithCopyWarning: \n",
      "A value is trying to be set on a copy of a slice from a DataFrame.\n",
      "Try using .loc[row_indexer,col_indexer] = value instead\n",
      "\n",
      "See the caveats in the documentation: https://pandas.pydata.org/pandas-docs/stable/user_guide/indexing.html#returning-a-view-versus-a-copy\n",
      "  cookies['nuts'] = 0\n",
      "<ipython-input-219-34c1b52f070e>:5: SettingWithCopyWarning: \n",
      "A value is trying to be set on a copy of a slice from a DataFrame.\n",
      "Try using .loc[row_indexer,col_indexer] = value instead\n",
      "\n",
      "See the caveats in the documentation: https://pandas.pydata.org/pandas-docs/stable/user_guide/indexing.html#returning-a-view-versus-a-copy\n",
      "  cookies['peanut butter'] = 0\n"
     ]
    }
   ],
   "source": [
    "cookies['chocolate'] = 0\n",
    "cookies['raisins'] = 0\n",
    "cookies['oats'] = 0\n",
    "cookies['nuts'] = 0\n",
    "cookies['peanut butter'] = 0"
   ]
  },
  {
   "cell_type": "code",
   "execution_count": 220,
   "metadata": {},
   "outputs": [
    {
     "data": {
      "text/html": [
       "<div>\n",
       "<style scoped>\n",
       "    .dataframe tbody tr th:only-of-type {\n",
       "        vertical-align: middle;\n",
       "    }\n",
       "\n",
       "    .dataframe tbody tr th {\n",
       "        vertical-align: top;\n",
       "    }\n",
       "\n",
       "    .dataframe thead th {\n",
       "        text-align: right;\n",
       "    }\n",
       "</style>\n",
       "<table border=\"1\" class=\"dataframe\">\n",
       "  <thead>\n",
       "    <tr style=\"text-align: right;\">\n",
       "      <th></th>\n",
       "      <th>sugar to flour ratio</th>\n",
       "      <th>sugar index</th>\n",
       "      <th>bake temp</th>\n",
       "      <th>chill time</th>\n",
       "      <th>calories</th>\n",
       "      <th>density</th>\n",
       "      <th>pH</th>\n",
       "      <th>grams baking soda</th>\n",
       "      <th>bake time</th>\n",
       "      <th>quality</th>\n",
       "      <th>butter type</th>\n",
       "      <th>weight</th>\n",
       "      <th>mixins</th>\n",
       "      <th>crunch factor</th>\n",
       "      <th>chocolate</th>\n",
       "      <th>raisins</th>\n",
       "      <th>oats</th>\n",
       "      <th>nuts</th>\n",
       "      <th>peanut butter</th>\n",
       "    </tr>\n",
       "  </thead>\n",
       "  <tbody>\n",
       "    <tr>\n",
       "      <th>0</th>\n",
       "      <td>0.25</td>\n",
       "      <td>9.5</td>\n",
       "      <td>300</td>\n",
       "      <td>15.0</td>\n",
       "      <td>136.0</td>\n",
       "      <td>0.99367</td>\n",
       "      <td>8.10</td>\n",
       "      <td>0.44</td>\n",
       "      <td>12.1</td>\n",
       "      <td>8</td>\n",
       "      <td>melted</td>\n",
       "      <td>15.2</td>\n",
       "      <td>raisins</td>\n",
       "      <td>1.30</td>\n",
       "      <td>0</td>\n",
       "      <td>0</td>\n",
       "      <td>0</td>\n",
       "      <td>0</td>\n",
       "      <td>0</td>\n",
       "    </tr>\n",
       "    <tr>\n",
       "      <th>1</th>\n",
       "      <td>0.23</td>\n",
       "      <td>3.3</td>\n",
       "      <td>520</td>\n",
       "      <td>34.0</td>\n",
       "      <td>113.0</td>\n",
       "      <td>0.99429</td>\n",
       "      <td>8.16</td>\n",
       "      <td>0.48</td>\n",
       "      <td>8.4</td>\n",
       "      <td>7</td>\n",
       "      <td>melted</td>\n",
       "      <td>12.4</td>\n",
       "      <td>raisins</td>\n",
       "      <td>1.71</td>\n",
       "      <td>0</td>\n",
       "      <td>0</td>\n",
       "      <td>0</td>\n",
       "      <td>0</td>\n",
       "      <td>0</td>\n",
       "    </tr>\n",
       "    <tr>\n",
       "      <th>2</th>\n",
       "      <td>0.18</td>\n",
       "      <td>1.9</td>\n",
       "      <td>360</td>\n",
       "      <td>33.0</td>\n",
       "      <td>106.0</td>\n",
       "      <td>0.98746</td>\n",
       "      <td>8.21</td>\n",
       "      <td>0.83</td>\n",
       "      <td>14.0</td>\n",
       "      <td>9</td>\n",
       "      <td>melted</td>\n",
       "      <td>9.4</td>\n",
       "      <td>nuts, chocolate</td>\n",
       "      <td>1.78</td>\n",
       "      <td>0</td>\n",
       "      <td>0</td>\n",
       "      <td>0</td>\n",
       "      <td>0</td>\n",
       "      <td>0</td>\n",
       "    </tr>\n",
       "    <tr>\n",
       "      <th>3</th>\n",
       "      <td>0.18</td>\n",
       "      <td>10.5</td>\n",
       "      <td>490</td>\n",
       "      <td>41.0</td>\n",
       "      <td>124.0</td>\n",
       "      <td>0.99630</td>\n",
       "      <td>8.14</td>\n",
       "      <td>0.35</td>\n",
       "      <td>10.5</td>\n",
       "      <td>7</td>\n",
       "      <td>melted</td>\n",
       "      <td>12.2</td>\n",
       "      <td>chocolate</td>\n",
       "      <td>1.59</td>\n",
       "      <td>0</td>\n",
       "      <td>0</td>\n",
       "      <td>0</td>\n",
       "      <td>0</td>\n",
       "      <td>0</td>\n",
       "    </tr>\n",
       "    <tr>\n",
       "      <th>4</th>\n",
       "      <td>0.24</td>\n",
       "      <td>2.4</td>\n",
       "      <td>770</td>\n",
       "      <td>6.0</td>\n",
       "      <td>33.0</td>\n",
       "      <td>0.99740</td>\n",
       "      <td>8.09</td>\n",
       "      <td>0.57</td>\n",
       "      <td>9.4</td>\n",
       "      <td>5</td>\n",
       "      <td>cubed</td>\n",
       "      <td>19.8</td>\n",
       "      <td>nuts, oats, chocolate</td>\n",
       "      <td>1.30</td>\n",
       "      <td>0</td>\n",
       "      <td>0</td>\n",
       "      <td>0</td>\n",
       "      <td>0</td>\n",
       "      <td>0</td>\n",
       "    </tr>\n",
       "  </tbody>\n",
       "</table>\n",
       "</div>"
      ],
      "text/plain": [
       "   sugar to flour ratio  sugar index  bake temp  chill time  calories  \\\n",
       "0                  0.25          9.5        300        15.0     136.0   \n",
       "1                  0.23          3.3        520        34.0     113.0   \n",
       "2                  0.18          1.9        360        33.0     106.0   \n",
       "3                  0.18         10.5        490        41.0     124.0   \n",
       "4                  0.24          2.4        770         6.0      33.0   \n",
       "\n",
       "   density    pH  grams baking soda  bake time  quality butter type  weight  \\\n",
       "0  0.99367  8.10               0.44       12.1        8      melted    15.2   \n",
       "1  0.99429  8.16               0.48        8.4        7      melted    12.4   \n",
       "2  0.98746  8.21               0.83       14.0        9      melted     9.4   \n",
       "3  0.99630  8.14               0.35       10.5        7      melted    12.2   \n",
       "4  0.99740  8.09               0.57        9.4        5       cubed    19.8   \n",
       "\n",
       "                  mixins  crunch factor  chocolate  raisins  oats  nuts  \\\n",
       "0                raisins           1.30          0        0     0     0   \n",
       "1                raisins           1.71          0        0     0     0   \n",
       "2        nuts, chocolate           1.78          0        0     0     0   \n",
       "3              chocolate           1.59          0        0     0     0   \n",
       "4  nuts, oats, chocolate           1.30          0        0     0     0   \n",
       "\n",
       "   peanut butter  \n",
       "0              0  \n",
       "1              0  \n",
       "2              0  \n",
       "3              0  \n",
       "4              0  "
      ]
     },
     "execution_count": 220,
     "metadata": {},
     "output_type": "execute_result"
    }
   ],
   "source": [
    "cookies.head()"
   ]
  },
  {
   "cell_type": "code",
   "execution_count": 221,
   "metadata": {},
   "outputs": [
    {
     "name": "stderr",
     "output_type": "stream",
     "text": [
      "/Users/davis/opt/anaconda3/lib/python3.8/site-packages/pandas/core/indexing.py:1765: SettingWithCopyWarning: \n",
      "A value is trying to be set on a copy of a slice from a DataFrame.\n",
      "Try using .loc[row_indexer,col_indexer] = value instead\n",
      "\n",
      "See the caveats in the documentation: https://pandas.pydata.org/pandas-docs/stable/user_guide/indexing.html#returning-a-view-versus-a-copy\n",
      "  isetter(loc, value)\n"
     ]
    }
   ],
   "source": [
    "mixins = ['chocolate', 'raisins', 'oats', 'nuts', 'peanut butter']\n",
    "for mix in mixins:\n",
    "    for i in range(len(cookies)):\n",
    "        if mix in [x.strip() for x in cookies.loc[i, 'mixins'].split(',')]:\n",
    "            cookies.loc[i, mix] = 1"
   ]
  },
  {
   "cell_type": "code",
   "execution_count": 222,
   "metadata": {},
   "outputs": [
    {
     "name": "stderr",
     "output_type": "stream",
     "text": [
      "/Users/davis/opt/anaconda3/lib/python3.8/site-packages/pandas/core/frame.py:4163: SettingWithCopyWarning: \n",
      "A value is trying to be set on a copy of a slice from a DataFrame\n",
      "\n",
      "See the caveats in the documentation: https://pandas.pydata.org/pandas-docs/stable/user_guide/indexing.html#returning-a-view-versus-a-copy\n",
      "  return super().drop(\n"
     ]
    }
   ],
   "source": [
    "cookies.drop(columns=[\"mixins\"], inplace=True)"
   ]
  },
  {
   "cell_type": "code",
   "execution_count": 223,
   "metadata": {},
   "outputs": [
    {
     "data": {
      "image/png": "[encoded data removed]",
      "text/plain": [
       "<Figure size 1152x432 with 2 Axes>"
      ]
     },
     "metadata": {
      "needs_background": "light"
     },
     "output_type": "display_data"
    }
   ],
   "source": [
    "plt.figure(figsize=(16, 6))\n",
    "mask = np.triu(np.ones_like(cookies.corr(), dtype=np.bool))\n",
    "heatmap = sns.heatmap(cookies.corr(), mask=mask, vmin=-1, vmax=1, annot=True, cmap='BrBG')"
   ]
  },
  {
   "cell_type": "markdown",
   "metadata": {},
   "source": [
    "### pre processing- drop NANs and deal with non numerical data\n"
   ]
  },
  {
   "cell_type": "code",
   "execution_count": 224,
   "metadata": {},
   "outputs": [
    {
     "data": {
      "text/plain": [
       "sugar to flour ratio    float64\n",
       "sugar index             float64\n",
       "bake temp                 int64\n",
       "chill time              float64\n",
       "calories                float64\n",
       "density                 float64\n",
       "pH                      float64\n",
       "grams baking soda       float64\n",
       "bake time               float64\n",
       "quality                   int64\n",
       "butter type              object\n",
       "weight                  float64\n",
       "crunch factor           float64\n",
       "chocolate                 int64\n",
       "raisins                   int64\n",
       "oats                      int64\n",
       "nuts                      int64\n",
       "peanut butter             int64\n",
       "dtype: object"
      ]
     },
     "execution_count": 224,
     "metadata": {},
     "output_type": "execute_result"
    }
   ],
   "source": [
    "cookies.dtypes"
   ]
  },
  {
   "cell_type": "code",
   "execution_count": 225,
   "metadata": {},
   "outputs": [],
   "source": [
    "cookies=pd.get_dummies(cookies, columns=['butter type'])\n"
   ]
  },
  {
   "cell_type": "code",
   "execution_count": 226,
   "metadata": {},
   "outputs": [
    {
     "name": "stdout",
     "output_type": "stream",
     "text": [
      "<class 'pandas.core.frame.DataFrame'>\n",
      "RangeIndex: 5195 entries, 0 to 5194\n",
      "Data columns (total 19 columns):\n",
      " #   Column                Non-Null Count  Dtype  \n",
      "---  ------                --------------  -----  \n",
      " 0   sugar to flour ratio  5195 non-null   float64\n",
      " 1   sugar index           5190 non-null   float64\n",
      " 2   bake temp             5195 non-null   int64  \n",
      " 3   chill time            5195 non-null   float64\n",
      " 4   calories              5195 non-null   float64\n",
      " 5   density               5195 non-null   float64\n",
      " 6   pH                    5195 non-null   float64\n",
      " 7   grams baking soda     5195 non-null   float64\n",
      " 8   bake time             5185 non-null   float64\n",
      " 9   quality               5195 non-null   int64  \n",
      " 10  weight                5195 non-null   float64\n",
      " 11  crunch factor         5195 non-null   float64\n",
      " 12  chocolate             5195 non-null   int64  \n",
      " 13  raisins               5195 non-null   int64  \n",
      " 14  oats                  5195 non-null   int64  \n",
      " 15  nuts                  5195 non-null   int64  \n",
      " 16  peanut butter         5195 non-null   int64  \n",
      " 17  butter type_cubed     5195 non-null   uint8  \n",
      " 18  butter type_melted    5195 non-null   uint8  \n",
      "dtypes: float64(10), int64(7), uint8(2)\n",
      "memory usage: 700.2 KB\n"
     ]
    }
   ],
   "source": [
    "cookies.info()"
   ]
  },
  {
   "cell_type": "code",
   "execution_count": 227,
   "metadata": {},
   "outputs": [],
   "source": [
    "cookies = cookies.dropna()"
   ]
  },
  {
   "cell_type": "code",
   "execution_count": 228,
   "metadata": {},
   "outputs": [],
   "source": [
    "cookies.reset_index(drop=True, inplace=True)"
   ]
  },
  {
   "cell_type": "markdown",
   "metadata": {},
   "source": [
    "### Split data into dependent and independent variables "
   ]
  },
  {
   "cell_type": "code",
   "execution_count": 229,
   "metadata": {},
   "outputs": [],
   "source": [
    "X= cookies.drop(columns=\"quality\")\n",
    "y=cookies.quality"
   ]
  },
  {
   "cell_type": "markdown",
   "metadata": {},
   "source": [
    "### Preprocessing - scaling "
   ]
  },
  {
   "cell_type": "code",
   "execution_count": 230,
   "metadata": {},
   "outputs": [],
   "source": [
    "from sklearn.preprocessing import StandardScaler\n",
    "\n",
    "scaler = StandardScaler()\n",
    "\n",
    "X_scaled = scaler.fit_transform(X)"
   ]
  },
  {
   "cell_type": "markdown",
   "metadata": {},
   "source": [
    "### Train test split"
   ]
  },
  {
   "cell_type": "code",
   "execution_count": 231,
   "metadata": {},
   "outputs": [],
   "source": [
    "from sklearn.model_selection import train_test_split\n",
    "\n",
    "X_train, X_test, y_train, y_test = train_test_split( X_scaled, y, test_size=0.1, random_state=40)\n"
   ]
  },
  {
   "cell_type": "markdown",
   "metadata": {},
   "source": [
    "### get model, fit, make predictions  AND evaluate"
   ]
  },
  {
   "cell_type": "code",
   "execution_count": 232,
   "metadata": {},
   "outputs": [],
   "source": [
    "from sklearn import linear_model\n",
    "from sklearn.metrics import mean_squared_error, r2_score"
   ]
  },
  {
   "cell_type": "code",
   "execution_count": 233,
   "metadata": {},
   "outputs": [],
   "source": [
    "lm = linear_model.LinearRegression()\n",
    "model = lm.fit(X_train,y_train)"
   ]
  },
  {
   "cell_type": "code",
   "execution_count": 234,
   "metadata": {},
   "outputs": [],
   "source": [
    "predictions  = lm.predict(X_test)"
   ]
  },
  {
   "cell_type": "code",
   "execution_count": 235,
   "metadata": {},
   "outputs": [
    {
     "data": {
      "text/plain": [
       "array([7.85955773, 7.78956659, 7.98252519, 7.61128579, 7.36178717,\n",
       "       7.54502501, 6.33214   , 6.23430087, 8.00312181, 8.6064535 ,\n",
       "       8.14737223, 7.59694154, 8.03844853, 8.25684547, 7.54388023,\n",
       "       7.74818278, 7.6082078 , 8.5726329 , 8.04329131, 5.54333526,\n",
       "       7.65223866, 7.87802726, 7.49837684, 7.30988508, 8.51642314,\n",
       "       7.00376252, 5.61936006, 6.73293539, 8.42115147, 7.02708039,\n",
       "       5.64828333, 5.86164248, 8.23134199, 7.15800364, 6.44470682,\n",
       "       7.41955061, 5.60871621, 8.14200188, 8.3466423 , 8.26586848,\n",
       "       8.04775379, 5.28466446, 7.74830751, 6.05055067, 8.04242671,\n",
       "       7.56844242, 7.91187352, 7.40697579, 7.74533041, 8.02584654,\n",
       "       7.52759494, 5.27634243, 8.01665815, 8.55351996, 6.1113614 ,\n",
       "       7.85387358, 7.82379942, 8.31946895, 8.58260152, 6.20402202,\n",
       "       7.57943484, 7.26450163, 7.63355667, 7.64804155, 8.4953916 ,\n",
       "       7.96242537, 8.19309694, 7.67629647, 7.70665906, 6.85083254,\n",
       "       7.25042473, 7.5194031 , 7.38813166, 8.10402125, 5.48811935,\n",
       "       7.69153735, 5.61056241, 7.31013491, 7.67253632, 7.76815629,\n",
       "       7.79264762, 8.26003731, 7.83771838, 7.09305502, 7.69985233,\n",
       "       7.85168565, 7.9199682 , 7.89878817, 8.20590072, 7.18642289,\n",
       "       5.19695524, 7.24712854, 6.53169915, 6.84927903, 7.79909494,\n",
       "       5.32654238, 7.86535268, 7.25058183, 7.54731053, 7.61803272,\n",
       "       5.28231005, 5.77488897, 7.92837227, 8.24880912, 8.06080034,\n",
       "       7.91179037, 7.80959191, 7.40310393, 7.81410402, 8.62890721,\n",
       "       8.13636465, 5.13784407, 7.49615184, 7.6803678 , 7.3355831 ,\n",
       "       7.87278539, 5.83858085, 8.03005241, 7.53731855, 5.27786555,\n",
       "       4.99134774, 7.44449471, 8.21467626, 7.63275312, 7.40720894,\n",
       "       8.2958592 , 8.67676926, 7.6170208 , 7.84828962, 7.22611247,\n",
       "       7.46815319, 5.54636521, 5.16469582, 6.26651505, 8.19372576,\n",
       "       6.22676612, 7.73121366, 8.00620563, 8.6341992 , 7.21005445,\n",
       "       6.21020254, 7.68186107, 5.80443183, 8.23753934, 7.6913941 ,\n",
       "       5.03553057, 8.13546468, 8.03596334, 8.71401616, 7.49680539,\n",
       "       7.42580343, 7.45220893, 7.74263218, 7.12452814, 8.4255984 ,\n",
       "       8.42098473, 4.96083893, 6.35336908, 5.58075963, 8.0531554 ,\n",
       "       7.9562007 , 8.6726039 , 7.99187649, 7.01292297, 7.13293821,\n",
       "       5.3159043 , 5.94432089, 7.82176371, 5.30805886, 8.38676131,\n",
       "       5.16251483, 7.34066548, 7.49790208, 5.3329031 , 7.47969836,\n",
       "       8.43262285, 7.89663589, 7.52200862, 7.6218444 , 8.44395056,\n",
       "       7.61300116, 7.55637541, 5.73235559, 7.51442673, 7.63363421,\n",
       "       8.48489895, 7.76394917, 8.80703159, 7.88880402, 8.52890006,\n",
       "       7.61611494, 8.60143715, 7.58789905, 8.67124922, 6.00580023,\n",
       "       8.22226758, 5.43753819, 8.01831756, 7.95919115, 8.49110444,\n",
       "       5.23529659, 7.69596304, 8.23724809, 7.9560554 , 7.40483275,\n",
       "       7.78141843, 7.90598024, 7.61231059, 8.17793766, 8.94029731,\n",
       "       8.52298565, 7.38656989, 8.16882257, 8.03319369, 7.28955253,\n",
       "       7.79005415, 8.47389467, 5.96544424, 7.51672354, 7.67598145,\n",
       "       5.96906478, 7.54895813, 8.58122483, 5.45275424, 7.40315614,\n",
       "       8.29822591, 7.99511017, 8.10870168, 8.45723505, 5.37996993,\n",
       "       8.1408375 , 7.33440959, 8.95114887, 8.43595394, 5.40720096,\n",
       "       7.62599502, 7.13194375, 5.32367682, 7.54471341, 7.40203322,\n",
       "       7.52413944, 6.5942559 , 7.74950728, 8.45378815, 6.96653419,\n",
       "       8.2953408 , 7.81932225, 6.79023366, 7.7399179 , 7.5811808 ,\n",
       "       5.26740288, 8.40922616, 8.0991871 , 7.6630929 , 7.74667116,\n",
       "       8.31625615, 8.44931403, 7.77506529, 8.10547128, 7.69170264,\n",
       "       7.15615304, 7.46009673, 8.44949185, 7.7690931 , 7.82702378,\n",
       "       7.48578847, 8.3479219 , 8.409582  , 6.00939091, 8.20025857,\n",
       "       8.65756732, 8.36703757, 7.82988433, 8.33905644, 8.19779708,\n",
       "       7.8235699 , 7.55362661, 5.4485564 , 5.03880722, 8.36897083,\n",
       "       7.5817507 , 7.72935093, 5.3126941 , 7.84347283, 7.61516608,\n",
       "       7.82218925, 7.4352662 , 8.76929739, 8.64320941, 7.52647469,\n",
       "       8.17973715, 8.37596397, 6.42496916, 8.38275242, 7.71327281,\n",
       "       7.11281957, 5.16206238, 4.88697779, 7.1787746 , 5.25732624,\n",
       "       7.3850158 , 5.47348399, 7.82143181, 6.41719738, 8.10748051,\n",
       "       7.94527547, 6.09374327, 8.08560451, 8.44321032, 7.80149933,\n",
       "       8.10853235, 6.63192362, 8.68416949, 7.61620195, 7.83852757,\n",
       "       7.79675877, 7.36147006, 8.16116842, 6.75225338, 7.8043449 ,\n",
       "       8.23392894, 7.11747206, 8.43857397, 7.2385129 , 8.02593833,\n",
       "       7.16936651, 5.37412604, 7.85055659, 7.32460256, 4.2768776 ,\n",
       "       7.34965839, 7.86233315, 7.76095358, 6.8387612 , 6.5006048 ,\n",
       "       7.23683967, 5.78559475, 7.0225461 , 7.33504475, 7.612211  ,\n",
       "       7.42626076, 8.02949178, 7.80192487, 8.33483211, 8.71603512,\n",
       "       8.04028123, 8.28717745, 5.26550293, 7.84474698, 8.30584878,\n",
       "       8.47116482, 7.93605501, 5.01322665, 7.52114848, 8.58481422,\n",
       "       7.62087784, 8.05154074, 5.27746848, 7.74767756, 7.17850939,\n",
       "       7.96735026, 7.81389582, 8.12395018, 7.54040147, 7.30877472,\n",
       "       7.49721997, 6.81911302, 8.94257482, 7.62084581, 5.84394372,\n",
       "       7.55283486, 7.11540391, 8.44713218, 7.54450169, 7.35394582,\n",
       "       8.31353448, 5.49536886, 7.56202478, 8.28486405, 7.67037455,\n",
       "       7.30552751, 8.17646741, 5.3066672 , 7.96384991, 4.93159997,\n",
       "       8.03355253, 7.92677921, 7.79667995, 5.03747672, 8.0697696 ,\n",
       "       8.53812704, 7.81568575, 5.97960112, 8.17451723, 8.33703512,\n",
       "       7.63242684, 5.88321023, 7.16965964, 7.91403512, 8.42397078,\n",
       "       7.64697764, 5.64850778, 7.67541077, 7.84930945, 5.28804462,\n",
       "       5.07801693, 7.39547256, 8.26229415, 5.02726358, 7.95465764,\n",
       "       8.82040175, 7.5213441 , 7.82433855, 5.33806115, 5.29828565,\n",
       "       5.49592934, 7.96206057, 6.17554766, 8.17469655, 5.55965498,\n",
       "       8.35787986, 7.80326626, 5.7417599 , 8.29015912, 5.87563741,\n",
       "       7.5951742 , 7.19894309, 7.79209494, 5.76736757, 7.96612598,\n",
       "       8.14522945, 5.20848894, 8.09628191, 7.98361967, 5.21163871,\n",
       "       7.50902691, 6.05790603, 5.23628863, 8.75322533, 8.15514475,\n",
       "       7.37703781, 6.483556  , 7.87345137, 7.67410777, 7.88987969,\n",
       "       5.55523184, 8.10177631, 5.61237385, 5.03278214, 7.41305114,\n",
       "       8.86923925, 7.47356176, 8.20591311, 8.3223339 , 7.12867817,\n",
       "       7.77504943, 7.47876466, 7.59973939, 8.12982506, 8.20212771,\n",
       "       7.63242748, 8.39322883, 4.95224759, 7.82101176, 5.21404543,\n",
       "       7.9717003 , 5.45691777, 7.6617592 , 8.70259132, 5.89533555,\n",
       "       6.9805341 , 7.12716542, 7.78355415, 5.26130939, 7.2681643 ,\n",
       "       7.82765043, 7.47945012, 8.01042448, 7.30016401, 7.8963104 ,\n",
       "       5.54874816, 5.52891579, 6.06515415, 7.78731871, 7.92010729,\n",
       "       7.27318652, 8.63145326, 5.52309209, 8.05978614, 7.7584451 ,\n",
       "       7.58623929, 7.53927649, 7.08165603, 7.43226366, 7.67919707,\n",
       "       5.26540542, 8.74765392, 8.07995285, 8.27756879, 7.55450776,\n",
       "       7.63331306, 4.79651452, 8.50730548, 7.29341824, 5.25793814,\n",
       "       5.42309301, 7.1293337 , 8.33378099, 7.45324935, 6.17521019,\n",
       "       7.52079183, 7.69129086, 7.34800841, 8.64463294, 5.69663699,\n",
       "       8.45569811, 5.01498501, 7.34975328])"
      ]
     },
     "execution_count": 235,
     "metadata": {},
     "output_type": "execute_result"
    }
   ],
   "source": [
    "predictions"
   ]
  },
  {
   "cell_type": "code",
   "execution_count": 236,
   "metadata": {},
   "outputs": [
    {
     "data": {
      "text/plain": [
       "0.6535182023315391"
      ]
     },
     "execution_count": 236,
     "metadata": {},
     "output_type": "execute_result"
    }
   ],
   "source": [
    "r2_score(y_test, predictions)"
   ]
  },
  {
   "cell_type": "code",
   "execution_count": 237,
   "metadata": {},
   "outputs": [
    {
     "name": "stdout",
     "output_type": "stream",
     "text": [
      "0.5849814772698558\n"
     ]
    }
   ],
   "source": [
    "mse = mean_squared_error(y_test, predictions)\n",
    "print(mse)"
   ]
  },
  {
   "cell_type": "code",
   "execution_count": 238,
   "metadata": {},
   "outputs": [
    {
     "name": "stdout",
     "output_type": "stream",
     "text": [
      "0.7648408182555739\n"
     ]
    }
   ],
   "source": [
    "import math \n",
    "rmse = math.sqrt(mse)\n",
    "print(rmse)"
   ]
  },
  {
   "cell_type": "markdown",
   "metadata": {},
   "source": [
    "### Make predictions on the cookies_validate dataset (without labels)"
   ]
  },
  {
   "cell_type": "code",
   "execution_count": 239,
   "metadata": {},
   "outputs": [],
   "source": [
    "cookies_val = pd.read_csv('cookies_validate.csv')"
   ]
  },
  {
   "cell_type": "code",
   "execution_count": 240,
   "metadata": {},
   "outputs": [
    {
     "name": "stdout",
     "output_type": "stream",
     "text": [
      "<class 'pandas.core.frame.DataFrame'>\n",
      "RangeIndex: 779 entries, 0 to 778\n",
      "Data columns (total 17 columns):\n",
      " #   Column                Non-Null Count  Dtype  \n",
      "---  ------                --------------  -----  \n",
      " 0   id                    779 non-null    int64  \n",
      " 1   sugar to flour ratio  779 non-null    float64\n",
      " 2   sugar index           779 non-null    float64\n",
      " 3   bake temp             779 non-null    float64\n",
      " 4   chill time            779 non-null    float64\n",
      " 5   calories              779 non-null    float64\n",
      " 6   density               779 non-null    float64\n",
      " 7   pH                    779 non-null    float64\n",
      " 8   grams baking soda     779 non-null    float64\n",
      " 9   bake time             779 non-null    float64\n",
      " 10  quality               779 non-null    int64  \n",
      " 11  butter type           779 non-null    object \n",
      " 12  weight                779 non-null    float64\n",
      " 13  diameter              779 non-null    int64  \n",
      " 14  mixins                779 non-null    object \n",
      " 15  crunch factor         779 non-null    float64\n",
      " 16  aesthetic appeal      779 non-null    int64  \n",
      "dtypes: float64(11), int64(4), object(2)\n",
      "memory usage: 103.6+ KB\n"
     ]
    }
   ],
   "source": [
    "cookies_val.info()"
   ]
  },
  {
   "cell_type": "code",
   "execution_count": 241,
   "metadata": {},
   "outputs": [],
   "source": [
    "cookies_val.drop(columns=[\"aesthetic appeal\", \"diameter\"], inplace=True)"
   ]
  },
  {
   "cell_type": "code",
   "execution_count": 242,
   "metadata": {},
   "outputs": [],
   "source": [
    "cookies_val['chocolate'] = 0\n",
    "cookies_val['raisins'] = 0\n",
    "cookies_val['oats'] = 0\n",
    "cookies_val['nuts'] = 0\n",
    "cookies_val['peanut butter'] = 0"
   ]
  },
  {
   "cell_type": "code",
   "execution_count": 243,
   "metadata": {},
   "outputs": [],
   "source": [
    "mixins = ['chocolate', 'raisins', 'oats', 'nuts', 'peanut butter']\n",
    "for mix in mixins:\n",
    "    for i in range(len(cookies_val)):\n",
    "        if mix in [x.strip() for x in cookies_val.loc[i, 'mixins'].split(',')]:\n",
    "            cookies_val.loc[i, mix] = 1\n",
    "            \n",
    "cookies_val.drop(columns=[\"mixins\"], inplace=True)"
   ]
  },
  {
   "cell_type": "code",
   "execution_count": 244,
   "metadata": {},
   "outputs": [],
   "source": [
    "cookies_val.drop(columns= 'id', inplace=True)"
   ]
  },
  {
   "cell_type": "code",
   "execution_count": 245,
   "metadata": {},
   "outputs": [],
   "source": [
    "cookies_val=pd.get_dummies(cookies_val, columns=['butter type'])"
   ]
  },
  {
   "cell_type": "code",
   "execution_count": 246,
   "metadata": {},
   "outputs": [
    {
     "name": "stdout",
     "output_type": "stream",
     "text": [
      "<class 'pandas.core.frame.DataFrame'>\n",
      "RangeIndex: 779 entries, 0 to 778\n",
      "Data columns (total 19 columns):\n",
      " #   Column                Non-Null Count  Dtype  \n",
      "---  ------                --------------  -----  \n",
      " 0   sugar to flour ratio  779 non-null    float64\n",
      " 1   sugar index           779 non-null    float64\n",
      " 2   bake temp             779 non-null    float64\n",
      " 3   chill time            779 non-null    float64\n",
      " 4   calories              779 non-null    float64\n",
      " 5   density               779 non-null    float64\n",
      " 6   pH                    779 non-null    float64\n",
      " 7   grams baking soda     779 non-null    float64\n",
      " 8   bake time             779 non-null    float64\n",
      " 9   quality               779 non-null    int64  \n",
      " 10  weight                779 non-null    float64\n",
      " 11  crunch factor         779 non-null    float64\n",
      " 12  chocolate             779 non-null    int64  \n",
      " 13  raisins               779 non-null    int64  \n",
      " 14  oats                  779 non-null    int64  \n",
      " 15  nuts                  779 non-null    int64  \n",
      " 16  peanut butter         779 non-null    int64  \n",
      " 17  butter type_cubed     779 non-null    uint8  \n",
      " 18  butter type_melted    779 non-null    uint8  \n",
      "dtypes: float64(11), int64(6), uint8(2)\n",
      "memory usage: 105.1 KB\n"
     ]
    }
   ],
   "source": [
    "cookies_val.info()"
   ]
  },
  {
   "cell_type": "code",
   "execution_count": 247,
   "metadata": {},
   "outputs": [],
   "source": [
    "X_val = cookies_val.drop(columns=\"quality\")"
   ]
  },
  {
   "cell_type": "code",
   "execution_count": 248,
   "metadata": {},
   "outputs": [],
   "source": [
    "X_val_scaled = scaler.fit_transform(X_val)"
   ]
  },
  {
   "cell_type": "code",
   "execution_count": 249,
   "metadata": {},
   "outputs": [],
   "source": [
    "predictions_val=lm.predict(X_val_scaled)"
   ]
  },
  {
   "cell_type": "code",
   "execution_count": 250,
   "metadata": {},
   "outputs": [
    {
     "data": {
      "text/plain": [
       "array([7.41523042, 7.29541654, 7.47838538, 7.74235911, 7.19688958,\n",
       "       7.15898889, 7.49356193, 7.08389191, 7.67452282, 7.28406796,\n",
       "       7.42255623, 7.32937036, 7.42570801, 7.64591073, 7.92257388,\n",
       "       7.15568306, 7.50538996, 7.1147322 , 8.25055228, 7.94110225,\n",
       "       7.57823066, 7.55607626, 8.01892276, 7.66365322, 6.8917098 ,\n",
       "       6.88558796, 6.99329051, 7.43646447, 6.85943826, 7.25359338,\n",
       "       7.59326827, 7.85170084, 7.37059276, 7.44850281, 7.75840237,\n",
       "       7.84297843, 7.84324395, 7.71989267, 7.10022992, 7.40465341,\n",
       "       7.91205759, 7.66362239, 7.46945478, 7.11959429, 7.44476967,\n",
       "       7.28127604, 7.14877533, 7.84336364, 7.53242254, 7.1386063 ,\n",
       "       7.06515945, 7.01352146, 7.35049255, 7.13717287, 7.01953158,\n",
       "       7.95145013, 7.25851367, 7.34572008, 7.91174654, 8.00622956,\n",
       "       7.1080057 , 7.47613957, 6.73810273, 7.59034982, 7.4755433 ,\n",
       "       7.34593141, 7.46736813, 7.25177477, 7.01535449, 8.17644367,\n",
       "       7.84077524, 8.19368435, 7.15922531, 6.8253976 , 7.71632462,\n",
       "       7.81370138, 7.59554568, 7.46752933, 6.99711125, 7.59995483,\n",
       "       7.24486813, 7.86615751, 7.39179165, 7.11610958, 7.60441299,\n",
       "       7.86432023, 7.86128948, 7.52810683, 7.52301194, 8.07568198,\n",
       "       7.7495163 , 6.83676145, 7.57861781, 7.22919886, 7.45822909,\n",
       "       7.36566087, 7.42582329, 7.92057531, 7.39929663, 6.97974329,\n",
       "       7.89375696, 7.49558699, 8.01533265, 8.08317078, 7.86555808,\n",
       "       7.4572466 , 7.06061728, 7.02492423, 7.32706683, 7.93808885,\n",
       "       7.47480002, 6.82045013, 7.14033061, 7.23574578, 7.51977472,\n",
       "       7.19643312, 7.40341455, 7.42046251, 8.22147282, 7.09588846,\n",
       "       7.6413514 , 7.43033013, 7.36510332, 7.64920847, 7.60636632,\n",
       "       7.43005901, 6.9164139 , 7.50461967, 6.61632757, 7.58956172,\n",
       "       6.30513226, 7.8850663 , 7.413716  , 7.38856865, 6.98554704,\n",
       "       7.9044878 , 7.14395189, 7.13700091, 7.38668936, 7.37267215,\n",
       "       7.54223526, 7.52102002, 7.46188678, 7.28641584, 7.1016717 ,\n",
       "       7.0419131 , 7.19292822, 8.11058847, 7.61316424, 7.77317076,\n",
       "       6.74958235, 7.49075502, 7.47671324, 7.1977874 , 7.23850472,\n",
       "       7.25275738, 7.45162478, 7.22281615, 7.94257349, 8.14400529,\n",
       "       7.98755248, 7.47078692, 7.32823031, 8.20140023, 7.444185  ,\n",
       "       7.50709011, 7.52243379, 7.55071153, 7.4430711 , 8.2526043 ,\n",
       "       7.22817378, 7.6779301 , 7.13892051, 7.3039449 , 7.87884473,\n",
       "       8.00610826, 7.70996615, 7.44098511, 7.48405646, 7.94684024,\n",
       "       7.12448655, 6.93373411, 6.81454902, 7.11265756, 7.26289299,\n",
       "       7.0362321 , 7.50169735, 7.06199201, 7.05537604, 7.67615677,\n",
       "       6.67506821, 7.15878325, 7.65690176, 6.43884771, 7.6312452 ,\n",
       "       7.65608345, 7.44734421, 7.46401333, 8.08695461, 7.73346504,\n",
       "       7.47916835, 8.01185141, 8.05720609, 6.47496236, 7.98638273,\n",
       "       7.27216421, 7.21935201, 7.24548562, 7.42054729, 7.66417802,\n",
       "       7.36423568, 6.68625475, 7.60962947, 7.25858661, 7.07849489,\n",
       "       7.53160479, 7.53110636, 7.62189498, 7.30983443, 6.72971128,\n",
       "       6.70584413, 7.26395794, 7.25904531, 7.22024455, 7.11592995,\n",
       "       7.1712279 , 7.47762857, 6.84855826, 7.5523328 , 7.64254201,\n",
       "       7.5957296 , 7.09434417, 7.21027861, 7.29818047, 7.20810824,\n",
       "       8.05828627, 8.02845155, 6.92920613, 8.08313253, 7.57879811,\n",
       "       7.26128387, 7.69582314, 7.29348308, 7.02628711, 7.34766897,\n",
       "       6.96450098, 7.34457003, 7.63546036, 7.44061379, 7.40329016,\n",
       "       7.59481963, 7.15079417, 6.80691252, 7.71430032, 7.47213525,\n",
       "       8.11068793, 7.23471514, 7.10220894, 7.4208586 , 7.92803252,\n",
       "       8.44624911, 6.72136564, 6.96995146, 8.41689209, 7.44965144,\n",
       "       7.05147699, 7.29269576, 7.52561774, 7.50188239, 7.82089326,\n",
       "       8.01165948, 7.88246441, 7.53423822, 6.75765212, 8.09709984,\n",
       "       7.35104466, 7.68624953, 8.62355746, 8.32070813, 7.84234627,\n",
       "       7.21040139, 7.54584763, 6.92748835, 7.62734183, 7.82970092,\n",
       "       7.84138011, 9.14797002, 7.28582755, 8.51758778, 7.10838559,\n",
       "       8.12874293, 7.62502311, 7.41798074, 7.39918245, 7.32619522,\n",
       "       8.03319577, 8.08569879, 7.45942576, 6.9987633 , 7.87574435,\n",
       "       7.35209249, 7.74837157, 7.38355143, 6.56522645, 7.8818095 ,\n",
       "       7.73390516, 8.24743881, 8.26384141, 7.91273061, 8.01371022,\n",
       "       8.5775878 , 7.78885034, 8.23767823, 7.40605776, 8.11115522,\n",
       "       6.83574662, 7.77543002, 7.02192881, 7.94231429, 8.20189751,\n",
       "       7.06679089, 7.98710119, 7.9776301 , 7.88495467, 7.80632644,\n",
       "       7.56256713, 8.49631865, 7.60570852, 7.62863851, 8.18611669,\n",
       "       7.00828874, 8.02977287, 7.70758673, 8.21942364, 7.97567181,\n",
       "       7.66988898, 7.81760091, 7.86165152, 8.23057672, 7.76830478,\n",
       "       7.9343846 , 7.57085622, 7.55840461, 7.8822397 , 7.88602814,\n",
       "       7.40732124, 8.00778387, 7.10449206, 7.498473  , 7.00177896,\n",
       "       7.84226441, 7.83170418, 7.79643928, 8.20880681, 8.09319647,\n",
       "       7.85481365, 7.71738294, 7.40047565, 7.92969616, 8.2302901 ,\n",
       "       7.80839866, 8.0783558 , 7.57102906, 7.82586645, 8.08706921,\n",
       "       7.67416809, 7.28018915, 7.61417715, 8.21928545, 7.60824325,\n",
       "       8.0412614 , 8.00391118, 7.94696154, 7.79033171, 6.97556449,\n",
       "       8.69466152, 7.31914923, 8.03468287, 8.27976395, 8.06726607,\n",
       "       7.99970932, 7.94633905, 7.31665787, 7.67205483, 8.03687787,\n",
       "       7.81173237, 7.39889623, 8.22383084, 8.00029496, 7.24524038,\n",
       "       7.72971971, 7.36366857, 7.3344976 , 8.49528494, 8.17304753,\n",
       "       7.79113862, 6.94194668, 7.05793219, 7.38447489, 8.09440002,\n",
       "       7.92675469, 7.71046279, 8.066089  , 8.08851468, 8.15086648,\n",
       "       8.18293001, 7.30666272, 7.90345209, 8.29720653, 7.94606469,\n",
       "       8.1120138 , 7.93632811, 7.29691411, 7.78358549, 7.31396208,\n",
       "       7.23901191, 8.12911873, 7.153859  , 8.04920196, 8.44525357,\n",
       "       8.08119405, 7.86628957, 8.56445431, 7.74278629, 8.49143795,\n",
       "       7.02554399, 8.4802856 , 7.30557726, 6.99121433, 7.74732042,\n",
       "       8.45135365, 7.86468804, 7.57480857, 7.9072441 , 8.20452634,\n",
       "       7.26432739, 8.09041402, 7.52610536, 8.38484843, 7.63673707,\n",
       "       7.90635188, 8.54936306, 7.86780444, 7.87841207, 7.43436084,\n",
       "       8.14372859, 8.26009186, 7.22276568, 8.20333873, 8.34537222,\n",
       "       7.64008071, 7.42132424, 7.4248656 , 7.81521125, 7.95396729,\n",
       "       7.80447358, 7.95737689, 7.80926286, 7.64940659, 7.64182972,\n",
       "       7.66806656, 8.25736594, 8.28964453, 7.7645666 , 8.01508069,\n",
       "       7.66404295, 8.19374662, 7.66783139, 7.78775765, 6.97415847,\n",
       "       8.50867769, 7.9567324 , 7.9719793 , 7.7806084 , 7.15045105,\n",
       "       7.57608974, 8.12585464, 6.91307653, 7.94894545, 8.17206054,\n",
       "       7.7876661 , 8.16153901, 7.10641891, 7.06151722, 7.17486467,\n",
       "       7.74408028, 7.84122171, 7.23564694, 7.23127901, 7.99110887,\n",
       "       7.32470181, 7.97865326, 7.86254965, 8.34621915, 7.73162411,\n",
       "       8.08549296, 8.14732452, 7.76024712, 7.31870711, 7.27485059,\n",
       "       7.64811565, 6.99365028, 7.55589618, 7.5805448 , 7.96421469,\n",
       "       7.16549534, 7.40714244, 8.30379902, 8.62028659, 8.28548494,\n",
       "       7.66566726, 8.4804425 , 7.57857041, 7.20227586, 8.04770766,\n",
       "       7.38003934, 7.80844999, 7.69255736, 7.59756493, 7.72645652,\n",
       "       7.6290035 , 7.90796193, 8.33661517, 7.72133111, 8.62679634,\n",
       "       8.38768619, 8.57320921, 8.20269849, 7.54723109, 8.14715206,\n",
       "       6.75346699, 7.1228003 , 8.05658995, 7.65174149, 7.63583006,\n",
       "       7.84903298, 8.0651999 , 7.59988248, 7.58570307, 7.61389969,\n",
       "       7.95905486, 8.21750092, 7.75248173, 7.9443131 , 7.39615556,\n",
       "       7.0644036 , 7.060994  , 7.41513656, 8.02771429, 7.31307692,\n",
       "       7.45153871, 7.45327707, 7.7111747 , 7.72364823, 7.80656369,\n",
       "       6.64147476, 7.49666358, 7.76076653, 7.34058433, 7.63155833,\n",
       "       8.27742031, 8.05831367, 7.46364634, 7.32394003, 7.49530229,\n",
       "       6.94219167, 6.85044297, 6.8724159 , 7.76763457, 7.36854764,\n",
       "       7.39544554, 7.11266973, 7.08577182, 7.70460413, 7.7032491 ,\n",
       "       7.93550096, 7.4451035 , 7.28830899, 7.28343339, 8.03176525,\n",
       "       7.02781152, 7.46535444, 8.34703254, 8.08833805, 7.75670175,\n",
       "       8.48744682, 8.0322536 , 7.30472872, 7.86895004, 7.42270453,\n",
       "       7.66357502, 7.5117384 , 7.65827121, 8.16123227, 7.67368979,\n",
       "       6.99211698, 7.69105939, 7.80472067, 7.82371651, 8.25221204,\n",
       "       8.11589812, 8.05199433, 7.90178362, 7.19514697, 7.57144256,\n",
       "       7.8041563 , 7.24800477, 7.07390237, 7.13314927, 7.73473743,\n",
       "       7.71966875, 7.66054784, 7.82476004, 8.02516177, 7.68184768,\n",
       "       7.36637721, 7.57048599, 7.5879128 , 7.49306572, 7.30836832,\n",
       "       7.3030645 , 7.45763398, 7.58393589, 8.31512244, 6.76268853,\n",
       "       7.84553368, 7.1137967 , 7.12819276, 7.28435266, 7.83920387,\n",
       "       8.04254617, 8.32860724, 7.12776173, 6.51862558, 8.21100683,\n",
       "       7.1077903 , 8.15221684, 6.42228807, 7.96376573, 7.78362686,\n",
       "       7.94737622, 7.52325692, 8.50808147, 7.78641286, 7.76751986,\n",
       "       8.28030327, 8.03980465, 7.8223164 , 7.95434824, 7.94353479,\n",
       "       8.14523702, 7.26553571, 8.11618907, 7.98051788, 8.16555537,\n",
       "       8.20420061, 7.20879153, 8.17492577, 8.46012828, 7.71834164,\n",
       "       7.74222129, 7.42940713, 7.72215263, 7.6337243 , 7.10663982,\n",
       "       7.11308016, 7.14169607, 7.85314984, 7.77131442, 7.64219148,\n",
       "       8.14487229, 7.5829074 , 7.84365992, 7.68912469, 8.43857052,\n",
       "       8.34759126, 8.28026333, 8.49126156, 7.61895589, 8.27034986,\n",
       "       7.16809161, 7.95362096, 7.85497212, 7.44555314, 8.32342813,\n",
       "       7.83253682, 8.00632458, 6.98971934, 7.58832418, 7.37140875,\n",
       "       7.38542596, 7.74696109, 7.87390058, 7.25930228, 8.05973293,\n",
       "       8.02809911, 7.49051296, 8.19320808, 7.92354677, 6.35301575,\n",
       "       7.34099515, 7.53800212, 7.33622346, 8.71229452, 7.82886259,\n",
       "       8.23026106, 3.93690058, 3.96598595, 4.1258857 , 3.87402213,\n",
       "       4.26655692, 4.05443239, 3.8727343 , 3.63162973, 4.42919548,\n",
       "       4.37290218, 4.3718534 , 4.35643208, 4.81349   , 4.05890461,\n",
       "       3.69444319, 4.58771088, 5.05803494, 4.80524773, 3.75865432,\n",
       "       4.3748278 , 4.69252677, 4.41720686, 4.47448021, 3.70790555,\n",
       "       4.56899485, 4.87279865, 5.10006395, 4.07910644, 4.74615039,\n",
       "       4.32197302, 4.55243558, 3.90526267, 4.67699727, 3.84340727,\n",
       "       4.09714736, 3.79880288, 5.0734401 , 4.97898307, 4.60080191,\n",
       "       4.29023913, 4.04527857, 5.16781282, 4.32209078, 5.02979619,\n",
       "       5.36163538, 4.2877935 , 5.16340579, 4.8736931 , 3.76676533,\n",
       "       5.12656205, 4.01030409, 4.67171673, 3.86855565, 4.61868822,\n",
       "       5.40924005, 4.68984963, 4.9633632 , 4.67694485, 4.00540702,\n",
       "       4.07951737, 4.58397457, 4.39809066, 4.11012557, 3.77819233,\n",
       "       5.25266424, 4.4144147 , 3.84286769, 4.04420836, 4.294231  ,\n",
       "       3.73228829, 4.06673283, 3.87552576, 3.79873951])"
      ]
     },
     "execution_count": 250,
     "metadata": {},
     "output_type": "execute_result"
    }
   ],
   "source": [
    "predictions_val"
   ]
  },
  {
   "cell_type": "markdown",
   "metadata": {},
   "source": [
    "### assess predictions against the test data (with labels)"
   ]
  },
  {
   "cell_type": "code",
   "execution_count": 251,
   "metadata": {},
   "outputs": [],
   "source": [
    "cookies_test = pd.read_csv('cookies_test.csv')"
   ]
  },
  {
   "cell_type": "code",
   "execution_count": 252,
   "metadata": {},
   "outputs": [],
   "source": [
    "y_real = cookies_test[\"quality\"]"
   ]
  },
  {
   "cell_type": "code",
   "execution_count": 253,
   "metadata": {},
   "outputs": [
    {
     "data": {
      "text/plain": [
       "count    779.000000\n",
       "mean       7.661104\n",
       "std        1.093643\n",
       "min        4.000000\n",
       "25%        7.000000\n",
       "50%        8.000000\n",
       "75%        8.000000\n",
       "max       10.000000\n",
       "Name: quality, dtype: float64"
      ]
     },
     "execution_count": 253,
     "metadata": {},
     "output_type": "execute_result"
    }
   ],
   "source": [
    "y_real.describe()"
   ]
  },
  {
   "cell_type": "code",
   "execution_count": 254,
   "metadata": {},
   "outputs": [
    {
     "data": {
      "text/plain": [
       "0.9025141041869351"
      ]
     },
     "execution_count": 254,
     "metadata": {},
     "output_type": "execute_result"
    }
   ],
   "source": [
    "mean_squared_error(y_real, predictions_val, squared = False)"
   ]
  },
  {
   "cell_type": "code",
   "execution_count": 255,
   "metadata": {},
   "outputs": [
    {
     "data": {
      "text/plain": [
       "0.9025141041869351"
      ]
     },
     "execution_count": 255,
     "metadata": {},
     "output_type": "execute_result"
    }
   ],
   "source": [
    "mse = mean_squared_error(y_real, predictions_val)\n",
    "rmse = math.sqrt(mse)\n",
    "rmse"
   ]
  },
  {
   "cell_type": "markdown",
   "metadata": {},
   "source": [
    "### Can we get more accuracy with an ensemble method?"
   ]
  },
  {
   "cell_type": "markdown",
   "metadata": {},
   "source": [
    "#### Task 4 : Add a random forest regressor model to try to get a more accurate score. \n",
    "\n",
    "You can follow https://www.geeksforgeeks.org/random-forest-regression-in-python/\n",
    "or the sklearn_documentation https://scikit-learn.org/stable/search.html?q=random+forest\n",
    "to import the regressor and fit it to your data, before running the cells below which will calculate your new RMSE accuracy score"
   ]
  },
  {
   "cell_type": "code",
   "execution_count": 266,
   "metadata": {},
   "outputs": [
    {
     "data": {
      "text/plain": [
       "RandomForestRegressor(random_state=0)"
      ]
     },
     "execution_count": 266,
     "metadata": {},
     "output_type": "execute_result"
    }
   ],
   "source": [
    "# 5 Fitting Random Forest Regression to the dataset\n",
    "# import the regressor\n",
    "from sklearn.ensemble import RandomForestRegressor\n",
    "  \n",
    "# create regressor object\n",
    "regressor = RandomForestRegressor(n_estimators = 100, random_state = 0)\n",
    "  \n",
    "# fit the regressor with x and y data\n",
    "regressor.fit(X_train,y_train)"
   ]
  },
  {
   "cell_type": "code",
   "execution_count": 268,
   "metadata": {},
   "outputs": [],
   "source": [
    "# 6 predictions on test data set with rf model\n",
    "\n",
    "predictions_rf = regressor.predict(X_test)\n"
   ]
  },
  {
   "cell_type": "code",
   "execution_count": 269,
   "metadata": {},
   "outputs": [
    {
     "data": {
      "text/plain": [
       "0.783946099544395"
      ]
     },
     "execution_count": 269,
     "metadata": {},
     "output_type": "execute_result"
    }
   ],
   "source": [
    "r2_score(y_test, predictions_rf)"
   ]
  },
  {
   "cell_type": "code",
   "execution_count": 270,
   "metadata": {},
   "outputs": [
    {
     "name": "stdout",
     "output_type": "stream",
     "text": [
      "0.3647739382239382\n"
     ]
    }
   ],
   "source": [
    "mse = mean_squared_error(y_test, predictions_rf)\n",
    "print(mse)"
   ]
  },
  {
   "cell_type": "code",
   "execution_count": 271,
   "metadata": {},
   "outputs": [
    {
     "name": "stdout",
     "output_type": "stream",
     "text": [
      "0.6039651796452659\n"
     ]
    }
   ],
   "source": [
    "rmse = math.sqrt(mse)\n",
    "print(rmse)"
   ]
  },
  {
   "cell_type": "markdown",
   "metadata": {},
   "source": [
    "### Evaluate random forest accuracy "
   ]
  },
  {
   "cell_type": "markdown",
   "metadata": {},
   "source": [
    "RMSE accuracy Score - depending on what you named your model and predictions this code may need to be adapted\n",
    "\n",
    "ie if your model is called 'new model' and you have created a prediction from this model 'predictions_new' then edit the code block below as: \n",
    "    \n",
    "    mean_squared_error(y_real, predictions_new, squared = False)\n",
    "    "
   ]
  },
  {
   "cell_type": "code",
   "execution_count": 273,
   "metadata": {},
   "outputs": [],
   "source": [
    "predictions_val_rt=regressor.predict(X_val_scaled)"
   ]
  },
  {
   "cell_type": "code",
   "execution_count": 275,
   "metadata": {},
   "outputs": [
    {
     "data": {
      "text/plain": [
       "0.7486146383588044"
      ]
     },
     "execution_count": 275,
     "metadata": {},
     "output_type": "execute_result"
    }
   ],
   "source": [
    "#EDIT as appropriate to get your RMSE \n",
    "\n",
    "mean_squared_error(y_real, predictions_val_rt, squared = False)"
   ]
  }
 ],
 "metadata": {
  "kernelspec": {
   "display_name": "Python 3",
   "language": "python",
   "name": "python3"
  },
  "language_info": {
   "codemirror_mode": {
    "name": "ipython",
    "version": 3
   },
   "file_extension": ".py",
   "mimetype": "text/x-python",
   "name": "python",
   "nbconvert_exporter": "python",
   "pygments_lexer": "ipython3",
   "version": "3.8.5"
  }
 },
 "nbformat": 4,
 "nbformat_minor": 4
}
